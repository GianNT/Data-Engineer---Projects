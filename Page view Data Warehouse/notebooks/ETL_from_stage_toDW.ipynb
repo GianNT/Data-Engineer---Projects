{
 "cells": [
  {
   "cell_type": "code",
   "execution_count": null,
   "metadata": {},
   "outputs": [],
   "source": [
    "# Import necessary libaries\n",
    "from pyspark.sql import SparkSession\n",
    "from pyspark.sql.types import StructField, StructType, IntegerType, StringType\n",
    "from datetime import datetime\n",
    "import os\n",
    "\n",
    "# Define the schema for dataframe\n",
    "schema = StructType([\n",
    "    StructField(\"domain\", StringType()),\n",
    "    StructField(\"pagename\", StringType()),\n",
    "    StructField(\"sumpageviewcount\", IntegerType()),\n",
    "    StructField(\"date_collection\", StringType()),\n",
    "    StructField(\"time_collection\", StringType()),\n",
    "    StructField(\"date_id\", IntegerType()),\n",
    "    StructField(\"time_id\", IntegerType()),\n",
    "    StructField(\"year\", IntegerType()),\n",
    "    StructField(\"month\", IntegerType())\n",
    "])"
   ]
  },
  {
   "cell_type": "code",
   "execution_count": 177,
   "metadata": {},
   "outputs": [],
   "source": [
    "# create Spark from SparkSession \n",
    "spark = SparkSession.builder\\\n",
    ".appName(\"parquet_year_month_toDW\")\\\n",
    ".master(\"local[4]\")\\\n",
    ".config(\"spark.executor.cores\", \"4\")\\\n",
    ".config(\"spark.executor.memory\", \"4g\")\\\n",
    ".config(\"spark.jars\",\"/opt/homebrew/Cellar/apache-spark/3.5.3/libexec/bin/postgresql-42.7.3.jar\")\\\n",
    ".getOrCreate()"
   ]
  },
  {
   "cell_type": "code",
   "execution_count": null,
   "metadata": {},
   "outputs": [],
   "source": [
    "# Define path to read and create dataframe\n",
    "parquet_folder_path = \"your_path\"\n",
    "df = spark.read.schema(schema).parquet(parquet_folder_path)\n",
    "df.cache()"
   ]
  },
  {
   "cell_type": "code",
   "execution_count": null,
   "metadata": {},
   "outputs": [],
   "source": [
    "# Define function to catch the activities\n",
    "def log_write(message):\n",
    "    time_now = datetime.now().strftime(\"%Y-%m-%d %H:%M:%S\")\n",
    "    log_directory = os.path.dirname(logfile)\n",
    "    if not os.path.exists(log_directory):\n",
    "        os.makedirs(log_directory)\n",
    "    with open(logfile, \"a\") as log:\n",
    "        log.write(f\"{time_now} : {message} \\n\")\n",
    "    \n",
    "# Define function read, transform dataframe\n",
    "def create_df_to_write(reading_folder):\n",
    "    df = spark.read.parquet(reading_folder)\n",
    "    row_to_write = [\"date_id\",\"time_id\", \"domain\", \"pagename\", \"sumpageviewcount\", \"year\", \"month\"]\n",
    "    df_to_write = df.select(row_to_write)\n",
    "    df_partitions = df_to_write.repartition('month')\n",
    "    df_sorted= df_partitions.sortWithinPartitions('date_id', \"time_id\")\n",
    "    return df_sorted\n",
    "\n",
    "# Define function to insert data to data warehouse\n",
    "def write_to_DW(reading_folder, table_name = 'fact_pageviews'):\n",
    "    # Define df:\n",
    "    df = create_df_to_write(reading_folder)\n",
    "    # Define posgresql url\n",
    "    postgresql_url = \"jdbc:postgresql://localhost:5455/dwh_pageviews\"\n",
    "    # Define connection_properties\n",
    "    connection_properties = {\"user\":\"postgres\",\\\n",
    "                         \"driver\":\"org.postgresql.Driver\",\\\n",
    "                            \"batchsize\":\"10000\"}\n",
    "    # Write to database\n",
    "    df.write.jdbc(url = postgresql_url,table = table_name, mode = 'append', properties = connection_properties)"
   ]
  },
  {
   "cell_type": "code",
   "execution_count": null,
   "metadata": {},
   "outputs": [
    {
     "name": "stderr",
     "output_type": "stream",
     "text": [
      "                                                                                \r"
     ]
    }
   ],
   "source": [
    "\n",
    "# Main logic for testing\n",
    "if __name__ == '__main__':\n",
    "    logfile = \"your_path.txt\"\n",
    "    for file in range(2015, 2024):\n",
    "        reading_path = \"your_path\"\n",
    "        reading_folder = f'{reading_path}{file}/*'\n",
    "        table_name = 'fact_pageviews'\n",
    "        try: \n",
    "            log_write(f'writing {reading_path} to WD')\n",
    "            write_to_DW(reading_folder,table_name)\n",
    "            log_write(f'finish writing {reading_path} to WD')\n",
    "        except Exception as e:\n",
    "            log_write(f'got error as: {e}')\n",
    "\n",
    "else: \n",
    "    print(None)\n",
    "\n",
    "spark.stop()\n",
    "\n",
    "\n"
   ]
  }
 ],
 "metadata": {
  "kernelspec": {
   "display_name": "Python 3",
   "language": "python",
   "name": "python3"
  },
  "language_info": {
   "codemirror_mode": {
    "name": "ipython",
    "version": 3
   },
   "file_extension": ".py",
   "mimetype": "text/x-python",
   "name": "python",
   "nbconvert_exporter": "python",
   "pygments_lexer": "ipython3",
   "version": "3.12.6"
  }
 },
 "nbformat": 4,
 "nbformat_minor": 2
}

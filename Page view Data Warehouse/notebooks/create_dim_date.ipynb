{
 "cells": [
  {
   "cell_type": "code",
   "execution_count": null,
   "metadata": {},
   "outputs": [],
   "source": [
    "# create dim_date table\n",
    "colums_name = ['date_id', \"date\", \"year\", \"quarter\", \"month\", \"month_name\", \"week_of_year\", \"day\", \"day_name\", \"is_weekend\"]\n",
    "\n",
    "# Import necessary libraries\n",
    "import pandas as pd \n",
    "from datetime import datetime\n",
    "start_date = \"2015-01-01\"\n",
    "end_date = \"2030-12-31\"\n",
    "\n",
    "# Define function to create dim_date dataframe\n",
    "def generate_dim_date(start_date, end_date):\n",
    "    #create date range index:\n",
    "    dates = pd.date_range(start= start_date, end=end_date)\n",
    "    \n",
    "    # Generate date attributes:\n",
    "    dim_date = pd.DataFrame({\n",
    "        'date_id': dates.strftime(\"%Y%m%d\").astype(int),\n",
    "        'date':dates,\n",
    "        'year':dates.year,\n",
    "        'quarter':dates.quarter,\n",
    "        'month':dates.month,\n",
    "        'month_name':dates.strftime('%B'),\n",
    "        'week_of_year':dates.strftime(\"%U\").astype(int),\n",
    "        'day':dates.day,\n",
    "        'day_name':dates.strftime(\"%A\"),\n",
    "        \"is_weekend\":dates.weekday >5\n",
    "\n",
    "    })\n",
    "    return dim_date\n",
    "\n",
    "dim_date_df = generate_dim_date(start_date, end_date)\n",
    "dim_date_df.to_csv('dim_date.csv', index=False)\n",
    "\n"
   ]
  }
 ],
 "metadata": {
  "kernelspec": {
   "display_name": "Python 3",
   "language": "python",
   "name": "python3"
  },
  "language_info": {
   "codemirror_mode": {
    "name": "ipython",
    "version": 3
   },
   "file_extension": ".py",
   "mimetype": "text/x-python",
   "name": "python",
   "nbconvert_exporter": "python",
   "pygments_lexer": "ipython3",
   "version": "3.12.6"
  }
 },
 "nbformat": 4,
 "nbformat_minor": 2
}

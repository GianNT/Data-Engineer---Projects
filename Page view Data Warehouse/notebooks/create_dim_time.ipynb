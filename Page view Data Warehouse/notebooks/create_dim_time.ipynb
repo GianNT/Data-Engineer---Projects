{
 "cells": [
  {
   "cell_type": "code",
   "execution_count": null,
   "metadata": {},
   "outputs": [],
   "source": [
    "# Import necessary libraries\n",
    "import pandas as pd\n",
    "from datetime import datetime\n",
    "\n",
    "# Define function to create dim_time dataframe\n",
    "def create_dim_time(time_index):\n",
    "    df_time = pd.DataFrame({'time_id': time_index,\n",
    "                            'time_creation': pd.to_datetime(time_index, format='%H').dt.time})\n",
    "    return df_time\n"
   ]
  },
  {
   "cell_type": "code",
   "execution_count": null,
   "metadata": {},
   "outputs": [],
   "source": [
    "time_index = pd.Series(range(0,24))\n",
    "df_dim_time = create_dim_time(time_index)\n",
    "df_dim_time.to_csv('dim_time.csv', index= False)"
   ]
  }
 ],
 "metadata": {
  "kernelspec": {
   "display_name": "Python 3",
   "language": "python",
   "name": "python3"
  },
  "language_info": {
   "codemirror_mode": {
    "name": "ipython",
    "version": 3
   },
   "file_extension": ".py",
   "mimetype": "text/x-python",
   "name": "python",
   "nbconvert_exporter": "python",
   "pygments_lexer": "ipython3",
   "version": "3.12.6"
  }
 },
 "nbformat": 4,
 "nbformat_minor": 2
}
